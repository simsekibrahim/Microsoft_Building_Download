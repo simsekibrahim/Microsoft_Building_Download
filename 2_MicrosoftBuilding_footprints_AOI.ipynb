{
  "cells": [
    {
      "cell_type": "markdown",
      "source": [
        "**1. Adım: Kütüphaneleri ekliyoruz.**"
      ],
      "metadata": {
        "id": "-aXIkb-n_6ww"
      }
    },
    {
      "cell_type": "code",
      "execution_count": 3,
      "metadata": {
        "id": "COU0kIzg7Jkg"
      },
      "outputs": [],
      "source": [
        "import pandas as pd\n",
        "import geopandas as gpd\n",
        "import shapely.geometry\n",
        "import mercantile\n",
        "from tqdm import tqdm\n",
        "import os\n",
        "import tempfile\n",
        "import fiona"
      ]
    },
    {
      "cell_type": "code",
      "source": [
        "!pip install mercantile"
      ],
      "metadata": {
        "colab": {
          "base_uri": "https://localhost:8080/"
        },
        "id": "kBF00-sJZ0mO",
        "outputId": "673cc0cf-33fe-488a-a0d8-8feffc8ddce4"
      },
      "execution_count": 2,
      "outputs": [
        {
          "output_type": "stream",
          "name": "stdout",
          "text": [
            "Collecting mercantile\n",
            "  Downloading mercantile-1.2.1-py3-none-any.whl (14 kB)\n",
            "Requirement already satisfied: click>=3.0 in /usr/local/lib/python3.10/dist-packages (from mercantile) (8.1.7)\n",
            "Installing collected packages: mercantile\n",
            "Successfully installed mercantile-1.2.1\n"
          ]
        }
      ]
    },
    {
      "cell_type": "markdown",
      "metadata": {
        "id": "8-4cTu7P7Jki"
      },
      "source": [
        "## 2. Adım: - İstediğiniz Alanı Tanımlama (AOI)\n",
        "\n",
        "İstediğiniz bölgeyi (AOI) GeoJSON geometrisi olarak tanımlayınız, ardından sınırlayıcı alanı eklemek için \"shapely\" kütüphanesini kullanınız.\n",
        "\n",
        "**Not**: GeoJSON için koordinat referans sistemi \"EPSG:4326\" olmalıdır, yani global enlem/boylam biçiminde olmalıdır. Bunun için https://geojson.io internet adresini kullanabilirsiniz."
      ]
    },
    {
      "cell_type": "code",
      "execution_count": 4,
      "metadata": {
        "id": "B5F0u6AB7Jkk"
      },
      "outputs": [],
      "source": [
        "# İndirmek istediğimiz alanı bu siteden işaretliyoruz --> https://geojson.io\n",
        "aoi_geom = {\n",
        "    \"coordinates\": [\n",
        "        [\n",
        "              [\n",
        "              -76.68107587508712,\n",
        "              39.32377012182852\n",
        "            ],\n",
        "            [\n",
        "              -76.68107587508712,\n",
        "              39.24439604939738\n",
        "            ],\n",
        "            [\n",
        "              -76.55494608216614,\n",
        "              39.24439604939738\n",
        "            ],\n",
        "            [\n",
        "              -76.55494608216614,\n",
        "              39.32377012182852\n",
        "            ],\n",
        "            [\n",
        "              -76.68107587508712,\n",
        "              39.32377012182852\n",
        "            ]\n",
        "        ]\n",
        "    ],\n",
        "    \"type\": \"Polygon\",\n",
        "}\n",
        "aoi_shape = shapely.geometry.shape(aoi_geom)\n",
        "minx, miny, maxx, maxy = aoi_shape.bounds\n",
        "\n",
        "#Buraya indirilecek dosyanın adını yazılıyor.\n",
        "output_fn = \"deneme1.geojson\""
      ]
    },
    {
      "cell_type": "markdown",
      "metadata": {
        "id": "7WcmAkF37Jkl"
      },
      "source": [
        "## 3. Adım: Hangi Tile'ların AOI ile kesiştiğini belirleme."
      ]
    },
    {
      "cell_type": "code",
      "execution_count": 5,
      "metadata": {
        "colab": {
          "base_uri": "https://localhost:8080/"
        },
        "id": "JhhhGwrt7Jkl",
        "outputId": "295d3ddc-b210-48ca-db17-1458e06e5e67"
      },
      "outputs": [
        {
          "output_type": "stream",
          "name": "stdout",
          "text": [
            "The input area spans 2 tiles: [32010032, 32010033]\n"
          ]
        }
      ],
      "source": [
        "quad_keys = set()\n",
        "for tile in list(mercantile.tiles(minx, miny, maxx, maxy, zooms=9)):\n",
        "    quad_keys.add(int(mercantile.quadkey(tile)))\n",
        "quad_keys = list(quad_keys)\n",
        "print(f\"The input area spans {len(quad_keys)} tiles: {quad_keys}\")"
      ]
    },
    {
      "cell_type": "markdown",
      "metadata": {
        "id": "_A8AB3py7Jkl"
      },
      "source": [
        "## 4.Adım - AOI ile kesişen her bir Tile için binaları indirme ve AOI ile kesme.\n",
        "\n",
        "AOI'mizle kesişen her döşeme için tüm binaları indirir, ardından yalnızca AOI'nin içerdiği binaları tutar.\n",
        "\n",
        "*Not*: AOI'nizin kaç parçayı kapladığına ve bu parçalarda kaç bina bulunduğuna bağlı olarak bu adım biraz zaman alabilir."
      ]
    },
    {
      "cell_type": "code",
      "execution_count": null,
      "metadata": {
        "colab": {
          "base_uri": "https://localhost:8080/"
        },
        "id": "r9rF0BMp7Jkm",
        "outputId": "121c3b22-33fb-4f57-adb3-522183f5c838"
      },
      "outputs": [
        {
          "output_type": "stream",
          "name": "stderr",
          "text": [
            " 50%|█████     | 1/2 [05:27<05:27, 327.13s/it]"
          ]
        }
      ],
      "source": [
        "df = pd.read_csv(\n",
        "    \"https://minedbuildings.blob.core.windows.net/global-buildings/dataset-links.csv\"\n",
        ")\n",
        "\n",
        "idx = 0\n",
        "combined_rows = []\n",
        "\n",
        "with tempfile.TemporaryDirectory() as tmpdir:\n",
        "    # AOI ile kesişen tile alanlarını indirme.\n",
        "    tmp_fns = []\n",
        "    for quad_key in tqdm(quad_keys):\n",
        "        rows = df[df[\"QuadKey\"] == quad_key]\n",
        "        if rows.shape[0] == 1:\n",
        "            url = rows.iloc[0][\"Url\"]\n",
        "\n",
        "            df2 = pd.read_json(url, lines=True)\n",
        "            df2[\"geometry\"] = df2[\"geometry\"].apply(shapely.geometry.shape)\n",
        "\n",
        "            gdf = gpd.GeoDataFrame(df2, crs=4326)\n",
        "            fn = os.path.join(tmpdir, f\"{quad_key}.geojson\")\n",
        "            tmp_fns.append(fn)\n",
        "            if not os.path.exists(fn):\n",
        "                gdf.to_file(fn, driver=\"GeoJSON\")\n",
        "        elif rows.shape[0] > 1:\n",
        "            raise ValueError(f\"Multiple rows found for QuadKey: {quad_key}\")\n",
        "        else:\n",
        "            raise ValueError(f\"QuadKey not found in dataset: {quad_key}\")\n",
        "\n",
        "    # GeoJSON dosyaları birleştirme\n",
        "    for fn in tmp_fns:\n",
        "        with fiona.open(fn, \"r\") as f:\n",
        "            for row in tqdm(f):\n",
        "                row = dict(row)\n",
        "                shape = shapely.geometry.shape(row[\"geometry\"])\n",
        "\n",
        "                if aoi_shape.contains(shape):\n",
        "                    if \"id\" in row:\n",
        "                        del row[\"id\"]\n",
        "                    row[\"properties\"] = {\"id\": idx}\n",
        "                    idx += 1\n",
        "                    combined_rows.append(row)"
      ]
    },
    {
      "cell_type": "markdown",
      "metadata": {
        "id": "j1Z5j-QY7Jkm"
      },
      "source": [
        "## Step 4 - Sonuçları Kaydetme ve indirme"
      ]
    },
    {
      "cell_type": "code",
      "execution_count": null,
      "metadata": {
        "id": "krK-A0J87Jkm"
      },
      "outputs": [],
      "source": [
        "schema = {\"geometry\": \"Polygon\", \"properties\": {\"id\": \"int\"}}\n",
        "\n",
        "with fiona.open(output_fn, \"w\", driver=\"GeoJSON\", crs=\"EPSG:4326\", schema=schema) as f:\n",
        "    f.writerecords(combined_rows)"
      ]
    }
  ],
  "metadata": {
    "language_info": {
      "name": "python"
    },
    "colab": {
      "provenance": []
    },
    "kernelspec": {
      "name": "python3",
      "display_name": "Python 3"
    }
  },
  "nbformat": 4,
  "nbformat_minor": 0
}